{
 "cells": [
  {
   "cell_type": "code",
   "execution_count": 2,
   "metadata": {},
   "outputs": [],
   "source": [
    "import pandas as pd\n",
    "import numpy as np\n",
    "import pathlib\n",
    "from pathlib import Path\n",
    "import librosa\n",
    "from typing import List, Tuple\n",
    "import toolz as tz\n",
    "from dask.diagnostics import ProgressBar\n",
    "import dask.bag as db\n",
    "import dask\n",
    "import dask.array as da\n",
    "import zarr\n",
    "from sklearn.model_selection import train_test_split\n",
    "from sklearn.preprocessing import robust_scale\n",
    "pd.set_option('display.float_format', lambda x: '%.3f' % x)"
   ]
  },
  {
   "cell_type": "code",
   "execution_count": 3,
   "metadata": {},
   "outputs": [],
   "source": [
    "def make_diagnosis_df(data_folder: pathlib.Path) -> pd.DataFrame:\n",
    "    return pd.read_csv(\n",
    "        data_folder.joinpath(\"patient_diagnosis.csv\"),\n",
    "        header=None,\n",
    "        names=[\"Patient\", \"Diagnosis\"],\n",
    "    ).set_index(\"Patient\")\n",
    "\n",
    "\n",
    "def make_file_df(\n",
    "    diagnosis_df: pd.DataFrame, audio_txt_folder: pathlib.Path\n",
    ") -> pd.DataFrame:\n",
    "    file_stats = [\n",
    "        get_record_stats(audio_txt_folder, x.name.split(\".\")[0])\n",
    "        for x in audio_txt_folder.glob(\"*.wav\")\n",
    "    ]\n",
    "\n",
    "    file_df = pd.DataFrame(\n",
    "        file_stats,\n",
    "        columns=[\n",
    "            \"Patient\",\n",
    "            \"Section\",\n",
    "            \"Location\",\n",
    "            \"n_channels\",\n",
    "            \"device\",\n",
    "            \"filesize\",\n",
    "            \"n_breaths\",\n",
    "        ],\n",
    "    ).assign(\n",
    "        Diagnosis=lambda x: x[\"Patient\"]\n",
    "        .astype(int)\n",
    "        .map(lambda y: diagnosis_df.loc[y, \"Diagnosis\"])\n",
    "    )\n",
    "    return file_df\n",
    "\n",
    "\n",
    "def get_record_stats(folder: str, file: str) -> Tuple[str, str, str, int, int]:\n",
    "    name_elems = file.split(\"_\")\n",
    "    wav_size = Path(folder).joinpath(f\"{file}.wav\").stat().st_size\n",
    "    # Count the lines, then subtract 1 cuz they end on an empty\n",
    "    n_breath_cycles = (\n",
    "        sum(1 for line in open(Path(folder).joinpath(f\"{file}.txt\"), \"r\")) - 1\n",
    "    )\n",
    "    return tuple(name_elems + [wav_size] + [n_breath_cycles])\n",
    "\n",
    "\n",
    "def pad_to_length(arr: np.array, max_len: int) -> np.array:\n",
    "    arr_len = arr.shape[0]\n",
    "    diff = max_len - arr_len\n",
    "    return np.pad(arr, (0, diff), mode=\"wrap\")\n",
    "\n",
    "\n",
    "def make_breath_array(\n",
    "    audio_txt_folder: pathlib.Path, file_df: pd.DataFrame\n",
    ") -> dask.array.Array:\n",
    "    files_to_use = list(audio_txt_folder.rglob(\"*.wav\"))\n",
    "    # I downsampled it to the lowest I could get it without\n",
    "    # running into DivideByZero errors.  Breathing is\n",
    "    # low-frequency\n",
    "    wav_bag = (\n",
    "        db.from_sequence(files_to_use, npartitions=8)\n",
    "        .map(lambda x: librosa.core.load(x, sr=87)[0])\n",
    "        .compute()\n",
    "    )\n",
    "\n",
    "    max_len = max(x.shape[0] for x in wav_bag)\n",
    "\n",
    "    breath_array = (\n",
    "        db.from_sequence(wav_bag, npartitions=8)\n",
    "        .map(lambda x: pad_to_length(x, max_len))\n",
    "        .to_dataframe()\n",
    "        .to_dask_array(lengths=True)\n",
    "    )\n",
    "\n",
    "    new_cols = da.stack(\n",
    "        [\n",
    "            da.from_array(file_df[\"n_breaths\"].values),\n",
    "            da.from_array((file_df[\"Diagnosis\"] == \"Healthy\").astype(np.int8).values),\n",
    "        ],\n",
    "        axis=1,\n",
    "    )\n",
    "\n",
    "    return da.concatenate([breath_array, new_cols], axis=1).astype(np.float32)\n",
    "\n",
    "\n",
    "def save_to_zarr(arr: dask.array.Array, folder: pathlib.Path, filename: str) -> None:\n",
    "    destination = str(Path(folder, filename))\n",
    "    da.to_zarr(arr.rechunk(), destination)"
   ]
  },
  {
   "cell_type": "code",
   "execution_count": null,
   "metadata": {},
   "outputs": [],
   "source": []
  },
  {
   "cell_type": "code",
   "execution_count": 4,
   "metadata": {},
   "outputs": [],
   "source": [
    "# Pathlib has a number of advantages, including being\n",
    "# cross-platform\n",
    "data_folder = Path(\"..\", \"data\")\n",
    "\n",
    "raw_respiratory = Path(\n",
    "    data_folder,\n",
    "    \"raw\",\n",
    "    \"respiratory-sound-database\",\n",
    "    \"Respiratory_Sound_Database\",\n",
    "    \"Respiratory_Sound_Database\",\n",
    ")\n",
    "\n",
    "audio_txt_folder = raw_respiratory.joinpath(\"audio_and_txt_files\")"
   ]
  },
  {
   "cell_type": "code",
   "execution_count": 10,
   "metadata": {},
   "outputs": [],
   "source": [
    "diagnosis_df = make_diagnosis_df(raw_respiratory)\n",
    "file_df = make_file_df(diagnosis_df, audio_txt_folder)"
   ]
  },
  {
   "cell_type": "code",
   "execution_count": 11,
   "metadata": {},
   "outputs": [
    {
     "name": "stdout",
     "output_type": "stream",
     "text": [
      "[########################################] | 100% Completed |  1min 30.9s\n",
      "[########################################] | 100% Completed |  0.1s\n",
      "[########################################] | 100% Completed |  9.7s\n"
     ]
    }
   ],
   "source": [
    "with ProgressBar():\n",
    "    breath_array = make_breath_array(audio_txt_folder, file_df)"
   ]
  },
  {
   "cell_type": "code",
   "execution_count": 12,
   "metadata": {},
   "outputs": [],
   "source": [
    "save_to_zarr(breath_array, \n",
    "             data_folder.joinpath(\"interim\"), \n",
    "             \"breath_data_full.zarr\")"
   ]
  },
  {
   "cell_type": "code",
   "execution_count": 13,
   "metadata": {},
   "outputs": [],
   "source": [
    "train, test = train_test_split(\n",
    "    breath_array.rechunk(), test_size=0.3, random_state=0, stratify=breath_array[:,-1]\n",
    ")"
   ]
  },
  {
   "cell_type": "code",
   "execution_count": 14,
   "metadata": {},
   "outputs": [],
   "source": [
    "save_to_zarr(train, \n",
    "             data_folder.joinpath(\"interim\"), \n",
    "             \"breath_data_train.zarr\")\n",
    "\n",
    "save_to_zarr(test, \n",
    "             data_folder.joinpath(\"interim\"), \n",
    "             \"breath_data_test.zarr\")"
   ]
  },
  {
   "cell_type": "code",
   "execution_count": 5,
   "metadata": {},
   "outputs": [],
   "source": [
    "data_folder = Path(\"..\", \"data\", \"interim\")\n",
    "train_dask = da.from_zarr(str(data_folder.joinpath(\"breath_data_train.zarr\")))\n",
    "train = train_dask.compute()"
   ]
  },
  {
   "cell_type": "code",
   "execution_count": null,
   "metadata": {},
   "outputs": [],
   "source": []
  }
 ],
 "metadata": {
  "kernelspec": {
   "display_name": "Python [conda env:py_387]",
   "language": "python",
   "name": "conda-env-py_387-py"
  },
  "language_info": {
   "codemirror_mode": {
    "name": "ipython",
    "version": 3
   },
   "file_extension": ".py",
   "mimetype": "text/x-python",
   "name": "python",
   "nbconvert_exporter": "python",
   "pygments_lexer": "ipython3",
   "version": "3.7.5"
  }
 },
 "nbformat": 4,
 "nbformat_minor": 4
}
